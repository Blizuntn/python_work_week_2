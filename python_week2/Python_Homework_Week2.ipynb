{
 "cells": [
  {
   "cell_type": "code",
   "execution_count": 1,
   "id": "2d055870",
   "metadata": {},
   "outputs": [
    {
     "name": "stdout",
     "output_type": "stream",
     "text": [
      "Would you like to proceed with the calculator? yes or no: yes\n",
      "What kind of calculation would you like to perform? add subtract multiplication division:  add\n",
      "What is your first number? 8\n",
      "What is your second number? 7\n",
      "15\n",
      "Would you like to proceed with the calculator? yes or no: no\n"
     ]
    }
   ],
   "source": [
    "def add(n1, n2):\n",
    "    print(n1 + n2)\n",
    "\n",
    "\n",
    "def subtract(n1, n2):\n",
    "    print(n1 - n2)\n",
    "\n",
    "\n",
    "def multiply(n1, n2):\n",
    "    print(n1 * n2)\n",
    "\n",
    "\n",
    "def divide(n1, n2):\n",
    "    print(n1 / n2)\n",
    "\n",
    "\n",
    "is_on = True\n",
    "\n",
    "while is_on:\n",
    "\n",
    "    proceed = input(\"Would you like to proceed with the calculator? yes or no: \")\n",
    "    if proceed == \"no\":\n",
    "        break\n",
    "    calculation = input(\n",
    "        \"What kind of calculation would you like to perform? add subtract multiplication division:  \").lower()\n",
    "    number1 = int(input(\"What is your first number? \"))\n",
    "    number2 = int(input(\"What is your second number? \"))\n",
    "\n",
    "\n",
    "    if calculation == \"add\":\n",
    "        add(number1, number2)\n",
    "    elif calculation == \"subtract\":\n",
    "        subtract(number1, number2)\n",
    "    elif calculation == \"multiplication\":\n",
    "        multiply(number1, number2)\n",
    "    elif calculation == \"division\":\n",
    "        divide(number1, number2)"
   ]
  },
  {
   "cell_type": "code",
   "execution_count": null,
   "id": "bb8b549e",
   "metadata": {},
   "outputs": [],
   "source": []
  }
 ],
 "metadata": {
  "kernelspec": {
   "display_name": "Python 3 (ipykernel)",
   "language": "python",
   "name": "python3"
  },
  "language_info": {
   "codemirror_mode": {
    "name": "ipython",
    "version": 3
   },
   "file_extension": ".py",
   "mimetype": "text/x-python",
   "name": "python",
   "nbconvert_exporter": "python",
   "pygments_lexer": "ipython3",
   "version": "3.9.12"
  }
 },
 "nbformat": 4,
 "nbformat_minor": 5
}
